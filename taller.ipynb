{
 "cells": [
  {
   "cell_type": "code",
   "execution_count": null,
   "id": "59a40d0e",
   "metadata": {},
   "outputs": [],
   "source": []
  },
  {
   "cell_type": "code",
   "execution_count": 25,
   "id": "baccc36c",
   "metadata": {},
   "outputs": [],
   "source": [
    "def algoritmo_1(N, x):\n",
    "    SUM = 0\n",
    "    for i in range(N):\n",
    "        SUM += x[i]\n",
    "    return SUM"
   ]
  },
  {
   "cell_type": "code",
   "execution_count": 32,
   "id": "5af13125",
   "metadata": {},
   "outputs": [
    {
     "data": {
      "text/plain": [
       "4950"
      ]
     },
     "execution_count": 32,
     "metadata": {},
     "output_type": "execute_result"
    }
   ],
   "source": [
    "x = range(100)\n",
    "algoritmo_1(len(x), x)"
   ]
  },
  {
   "cell_type": "code",
   "execution_count": 30,
   "id": "2144945a",
   "metadata": {},
   "outputs": [
    {
     "data": {
      "text/plain": [
       "1.75"
      ]
     },
     "execution_count": 30,
     "metadata": {},
     "output_type": "execute_result"
    }
   ],
   "source": [
    "\n",
    "x = [1, 1/2, 1/4]\n",
    "algoritmo_1(len(x), x)"
   ]
  },
  {
   "cell_type": "code",
   "execution_count": 33,
   "id": "4ad726db",
   "metadata": {},
   "outputs": [
    {
     "name": "stdout",
     "output_type": "stream",
     "text": [
      "[1.0, 0.5, 0.25, 0.125, 0.0625, 0.03125, 0.015625, 0.0078125, 0.00390625, 0.001953125, 0.0009765625, 0.00048828125, 0.000244140625, 0.0001220703125, 6.103515625e-05]\n",
      "1.99993896484375\n",
      "6.103515625e-05\n"
     ]
    }
   ],
   "source": [
    "x = [1/2**x for x in range(15)]\n",
    "print(x)\n",
    "r = algoritmo_1(len(x), x)\n",
    "print(r)\n",
    "print(f\"{2-r}\")"
   ]
  },
  {
   "cell_type": "markdown",
   "id": "c716016e",
   "metadata": {},
   "source": [
    "## Ejercicio numero 2"
   ]
  },
  {
   "cell_type": "code",
   "execution_count": 34,
   "id": "b42b5ef5",
   "metadata": {},
   "outputs": [
    {
     "name": "stdout",
     "output_type": "stream",
     "text": [
      "V_sorted: [1, 2, 3, 4, 5, 8]\n"
     ]
    }
   ],
   "source": [
    "v1 = [3, 2, 5, 8, 4, 1] \n",
    "n = len(v1)\n",
    "\n",
    "for i in range(n):\n",
    "    swapped = False\n",
    "    for j in range(1, n - i):\n",
    "        if v1[j] < v1[j - 1]:\n",
    "            v1[j], v1[j - 1] = v1[j - 1], v1[j]\n",
    "            swapped = True\n",
    "    if not swapped:\n",
    "        break\n",
    "print(\"V_sorted:\", v1)"
   ]
  },
  {
   "cell_type": "code",
   "execution_count": 35,
   "id": "c0f2da87",
   "metadata": {},
   "outputs": [
    {
     "name": "stdout",
     "output_type": "stream",
     "text": [
      "V_sorted: [-1, 0, 4, 5, 6, 7]\n"
     ]
    }
   ],
   "source": [
    "v2 = [-1, 0, 4, 5, 6, 7] \n",
    "n = len(v2)\n",
    "\n",
    "for i in range(n):\n",
    "    swapped = False\n",
    "    for j in range(1, n - i):\n",
    "        if v2[j] < v2[j - 1]:\n",
    "            v2[j], v2[j - 1] = v2[j - 1], v2[j]\n",
    "            swapped = True\n",
    "    if not swapped:\n",
    "        break\n",
    "print(\"V_sorted:\", v2)"
   ]
  },
  {
   "cell_type": "code",
   "execution_count": null,
   "id": "017eca38",
   "metadata": {},
   "outputs": [],
   "source": []
  }
 ],
 "metadata": {
  "kernelspec": {
   "display_name": "Python 3",
   "language": "python",
   "name": "python3"
  },
  "language_info": {
   "codemirror_mode": {
    "name": "ipython",
    "version": 3
   },
   "file_extension": ".py",
   "mimetype": "text/x-python",
   "name": "python",
   "nbconvert_exporter": "python",
   "pygments_lexer": "ipython3",
   "version": "3.13.7"
  }
 },
 "nbformat": 4,
 "nbformat_minor": 5
}
