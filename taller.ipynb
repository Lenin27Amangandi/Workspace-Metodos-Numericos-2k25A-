{
 "cells": [
  {
   "cell_type": "code",
   "execution_count": null,
   "id": "59a40d0e",
   "metadata": {},
   "outputs": [],
   "source": []
  },
  {
   "cell_type": "code",
   "execution_count": 25,
   "id": "baccc36c",
   "metadata": {},
   "outputs": [],
   "source": [
    "def algoritmo_1(N, x):\n",
    "    SUM = 0\n",
    "    for i in range(N):\n",
    "        SUM += x[i]\n",
    "    return SUM"
   ]
  },
  {
   "cell_type": "markdown",
   "id": "58dc7667",
   "metadata": {},
   "source": []
  },
  {
   "cell_type": "code",
   "execution_count": 32,
   "id": "5af13125",
   "metadata": {},
   "outputs": [
    {
     "data": {
      "text/plain": [
       "4950"
      ]
     },
     "execution_count": 32,
     "metadata": {},
     "output_type": "execute_result"
    }
   ],
   "source": [
    "x = range(100)\n",
    "algoritmo_1(len(x), x)"
   ]
  },
  {
   "cell_type": "code",
   "execution_count": 30,
   "id": "2144945a",
   "metadata": {},
   "outputs": [
    {
     "data": {
      "text/plain": [
       "1.75"
      ]
     },
     "execution_count": 30,
     "metadata": {},
     "output_type": "execute_result"
    }
   ],
   "source": [
    "\n",
    "x = [1, 1/2, 1/4]\n",
    "algoritmo_1(len(x), x)"
   ]
  },
  {
   "cell_type": "code",
   "execution_count": 33,
   "id": "4ad726db",
   "metadata": {},
   "outputs": [
    {
     "name": "stdout",
     "output_type": "stream",
     "text": [
      "[1.0, 0.5, 0.25, 0.125, 0.0625, 0.03125, 0.015625, 0.0078125, 0.00390625, 0.001953125, 0.0009765625, 0.00048828125, 0.000244140625, 0.0001220703125, 6.103515625e-05]\n",
      "1.99993896484375\n",
      "6.103515625e-05\n"
     ]
    }
   ],
   "source": [
    "x = [1/2**x for x in range(15)]\n",
    "print(x)\n",
    "r = algoritmo_1(len(x), x)\n",
    "print(r)\n",
    "print(f\"{2-r}\")"
   ]
  },
  {
   "cell_type": "markdown",
   "id": "c716016e",
   "metadata": {},
   "source": [
    "## Ejercicio numero 2"
   ]
  },
  {
   "cell_type": "code",
   "execution_count": 34,
   "id": "b42b5ef5",
   "metadata": {},
   "outputs": [
    {
     "name": "stdout",
     "output_type": "stream",
     "text": [
      "V_sorted: [1, 2, 3, 4, 5, 8]\n"
     ]
    }
   ],
   "source": [
    "v1 = [3, 2, 5, 8, 4, 1] \n",
    "n = len(v1)\n",
    "\n",
    "for i in range(n):\n",
    "    swapped = False\n",
    "    for j in range(1, n - i):\n",
    "        if v1[j] < v1[j - 1]:\n",
    "            v1[j], v1[j - 1] = v1[j - 1], v1[j]\n",
    "            swapped = True\n",
    "    if not swapped:\n",
    "        break\n",
    "print(\"V_sorted:\", v1)"
   ]
  },
  {
   "cell_type": "code",
   "execution_count": 35,
   "id": "c0f2da87",
   "metadata": {},
   "outputs": [
    {
     "name": "stdout",
     "output_type": "stream",
     "text": [
      "V_sorted: [-1, 0, 4, 5, 6, 7]\n"
     ]
    }
   ],
   "source": [
    "v2 = [-1, 0, 4, 5, 6, 7] \n",
    "n = len(v2)\n",
    "\n",
    "for i in range(n):\n",
    "    swapped = False\n",
    "    for j in range(1, n - i):\n",
    "        if v2[j] < v2[j - 1]:\n",
    "            v2[j], v2[j - 1] = v2[j - 1], v2[j]\n",
    "            swapped = True\n",
    "    if not swapped:\n",
    "        break\n",
    "print(\"V_sorted:\", v2)"
   ]
  },
  {
   "cell_type": "code",
   "execution_count": null,
   "id": "f6984604",
   "metadata": {},
   "outputs": [],
   "source": []
  },
  {
   "cell_type": "code",
   "execution_count": 9,
   "id": "017eca38",
   "metadata": {},
   "outputs": [
    {
     "name": "stdout",
     "output_type": "stream",
     "text": [
      "V_sorted: [-196, -194, -190, -186, -185, -182, -178, -178, -173, -172, -167, -157, -153, -140, -140, -136, -135, -130, -128, -126, -124, -120, -112, -110, -103, -100, -95, -95, -94, -86, -77, -75, -72, -69, -58, -57, -53, -51, -47, -45, -42, -40, -37, -34, -33, -29, -27, -26, -26, -26, -25, -19, -15, -12, -11, -5, -2, 1, 6, 10, 10, 15, 20, 20, 23, 25, 26, 26, 26, 28, 28, 29, 30, 31, 32, 33, 36, 36, 40, 52, 55, 56, 62, 65, 65, 67, 69, 82, 85, 90, 98, 107, 108, 115, 116, 125, 131, 141, 141, 145]\n"
     ]
    }
   ],
   "source": [
    "import random \n",
    "v3 = [random.randint(-200, 145) for _ in range(100)]\n",
    "n = len(v3)\n",
    "\n",
    "for i in range(n):\n",
    "    swapped = False\n",
    "    for j in range(1, n - i):\n",
    "        if v3[j] < v3[j - 1]:\n",
    "            v3[j], v3[j - 1] = v3[j - 1], v3[j]\n",
    "            swapped = True\n",
    "    if not swapped:\n",
    "        break\n",
    "print(\"V_sorted:\", v3)"
   ]
  },
  {
   "cell_type": "markdown",
   "id": "fb1ed527",
   "metadata": {},
   "source": [
    "### Ejercicio 2.1"
   ]
  },
  {
   "cell_type": "code",
   "execution_count": null,
   "id": "81955a3b",
   "metadata": {},
   "outputs": [
    {
     "name": "stdout",
     "output_type": "stream",
     "text": [
      "V_sorted: [1, 2, 3, 4, 5]\n",
      "Numeor de iteraciones = 10\n"
     ]
    }
   ],
   "source": [
    "v1 = [5, 4, 3, 2, 1] \n",
    "n = len(v1)\n",
    "iteraciones=0\n",
    "for i in range(n):\n",
    "    swapped = False\n",
    "    for j in range(1, n - i):\n",
    "        iteraciones+=1\n",
    "        if v1[j] < v1[j - 1]:\n",
    "            v1[j], v1[j - 1] = v1[j - 1], v1[j]\n",
    "            swapped = True\n",
    "    if not swapped:\n",
    "        break\n",
    "print(\"V_sorted:\", v1)\n",
    "print(\"Numeor de iteraciones =\", iteraciones)"
   ]
  },
  {
   "cell_type": "markdown",
   "id": "07af06d7",
   "metadata": {},
   "source": [
    "## Ejercicio Numero 3"
   ]
  },
  {
   "cell_type": "code",
   "execution_count": 1,
   "id": "07a96b36",
   "metadata": {},
   "outputs": [],
   "source": [
    "def alg_03(n):\n",
    "    if n == 0:\n",
    "        return 0\n",
    "    x = 0\n",
    "    y = 1\n",
    "    for i in range(1, n):\n",
    "        z = x + y\n",
    "        x = y\n",
    "        y = z\n",
    "    return y"
   ]
  },
  {
   "cell_type": "code",
   "execution_count": 2,
   "id": "c32c80af",
   "metadata": {},
   "outputs": [
    {
     "name": "stdout",
     "output_type": "stream",
     "text": [
      "89\n"
     ]
    }
   ],
   "source": [
    "print(alg_03(11))"
   ]
  },
  {
   "cell_type": "code",
   "execution_count": 3,
   "id": "296f4c76",
   "metadata": {},
   "outputs": [
    {
     "name": "stdout",
     "output_type": "stream",
     "text": [
      "160500643816367088\n"
     ]
    }
   ],
   "source": [
    "\n",
    "print(alg_03(84))"
   ]
  },
  {
   "cell_type": "code",
   "execution_count": 4,
   "id": "eb7448f4",
   "metadata": {},
   "outputs": [
    {
     "name": "stdout",
     "output_type": "stream",
     "text": [
      "40793617605237766910177891101532305954169356679469251968012246320785442201399010062608120133898796842159214701491227645296640251351118097414452512943377923944240851901342511998321837317687231200181404989351498771613091128609066442842273029931595972451439617557382711759593384278734694858010024767646023157013418593547269\n"
     ]
    }
   ],
   "source": [
    "print(alg_03(1531))\n"
   ]
  }
 ],
 "metadata": {
  "kernelspec": {
   "display_name": "Python 3",
   "language": "python",
   "name": "python3"
  },
  "language_info": {
   "codemirror_mode": {
    "name": "ipython",
    "version": 3
   },
   "file_extension": ".py",
   "mimetype": "text/x-python",
   "name": "python",
   "nbconvert_exporter": "python",
   "pygments_lexer": "ipython3",
   "version": "3.13.7"
  }
 },
 "nbformat": 4,
 "nbformat_minor": 5
}
